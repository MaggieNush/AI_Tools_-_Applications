{
  "nbformat": 4,
  "nbformat_minor": 0,
  "metadata": {
    "colab": {
      "provenance": [],
      "toc_visible": true
    },
    "kernelspec": {
      "name": "python3",
      "display_name": "Python 3"
    },
    "language_info": {
      "name": "python"
    }
  },
  "cells": [
    {
      "cell_type": "markdown",
      "source": [
        "**📌 Extracting Product & Brand Intelligence from Amazon Reviews with spaCy: NER + Rule‑Based Sentiment**\n",
        "\n",
        "## 🧠 Introduction\n",
        "\n",
        "In today’s data‑driven marketplace, organizations rely on Natural Language Processing (NLP) to transform unstructured customer feedback into actionable insights. This mini‑project—part of the broader **AI Tools and Applications** assignment themed **“Mastering the AI Toolkit”**—focuses on applying **spaCy**, a production‑grade Python NLP framework, to Amazon product reviews.\n",
        "\n",
        "By combining **Named Entity Recognition (NER)** and a lightweight **rule‑based sentiment model**, we demonstrate how AI tools can surface which **brands** and **products** customers mention and how they feel about them.\n",
        "\n",
        "---\n",
        "\n",
        "## 📚 Project Description\n",
        "\n",
        "We will build a small pipeline that:\n",
        "\n",
        "1. **Ingests** raw review text from the Amazon Product Reviews dataset.  \n",
        "2. **Processes** each review with spaCy’s pretrained English model (`en_core_web_sm`), enhanced with an `EntityRuler`.  \n",
        "3. **Extracts** entities of type `PRODUCT` and `ORG`.  \n",
        "4. **Classifies** overall review sentiment (positive or negative) using a rule‑based lexicon.  \n",
        "5. **Outputs** a structured summary showing:  \n",
        "   - Review Text  \n",
        "   - Extracted Entities  \n",
        "   - Sentiment Label\n",
        "\n",
        "---\n",
        "\n",
        "## ❗ Problem Statement\n",
        "\n",
        "Customer reviews often hide valuable signals about **which products** and **which brands** receive praise or criticism. Manually sifting through thousands of reviews is infeasible and prone to bias.\n",
        "\n",
        "We need an automated, reproducible method to **identify product/brand mentions** and **gauge customer sentiment**, so that businesses can:\n",
        "\n",
        "- Track product reputation in real time  \n",
        "- Compare competing brands based on customer experience  \n",
        "- Prioritize improvements or marketing where negativity is high\n",
        "\n",
        "---\n",
        "\n",
        "## 🎯 Main Objective\n",
        "\n",
        "Design and implement a **spaCy‑based NLP workflow** that **automatically extracts product/brand entities** and **assigns a sentiment label** (positive or negative) to each Amazon review.\n",
        "\n",
        "---\n",
        "\n",
        "## 📌 Specific Objectives\n",
        "\n",
        "1. **Data Preparation**\n",
        "   - Load and inspect the Amazon Product Reviews dataset.\n",
        "   - Handle missing or noisy text (e.g., remove HTML, standardize casing).\n",
        "\n",
        "2. **NER Pipeline Setup**\n",
        "   - Load spaCy model `en_core_web_sm`.\n",
        "   - Add an `EntityRuler` with custom patterns to capture product and brand names.\n",
        "   - Ensure correct extraction of `ORG` and `PRODUCT` entities.\n",
        "\n",
        "3. **Rule‑Based Sentiment Analysis**\n",
        "   - Create simple word lists of positive and negative terms.\n",
        "   - Implement a scoring function to classify sentiment.\n",
        "   - Test function on sample reviews.\n",
        "\n",
        "4. **Review Processing Loop**\n",
        "   - Run spaCy on each review.\n",
        "   - For each, extract:\n",
        "     - Entities (brands/products)\n",
        "     - Sentiment label\n",
        "\n",
        "5. **Result Display & Export**\n",
        "   - Compile results into a DataFrame.\n",
        "   - Display sample output and save to CSV.\n",
        "   - (Optional) Create summary charts of top brands or sentiment ratios.\n",
        "\n",
        "6. **Deliverable Packaging**\n",
        "   - Provide clean, reproducible Python code or notebook.\n",
        "   - Include at least 3 output examples with entities and sentiment correctly labeled.\n",
        "\n",
        "---\n",
        "\n",
        "> ✅ This task demonstrates mastery of practical AI tools through real-world application of NLP with spaCy.\n",
        "*"
      ],
      "metadata": {
        "id": "Z4Jx9fLgQxiZ"
      }
    },
    {
      "cell_type": "markdown",
      "source": [
        "## ✅1. DATA COLLECTION AND PREPARATION"
      ],
      "metadata": {
        "id": "2-r7L_O5Rzv4"
      }
    },
    {
      "cell_type": "markdown",
      "source": [
        "🔹 LOAD AND PREPARE YOUR DATA"
      ],
      "metadata": {
        "id": "eDwCQZH7RoBg"
      }
    },
    {
      "cell_type": "markdown",
      "source": [
        "📦 Import Libraries:"
      ],
      "metadata": {
        "id": "tGmHBp1GRtoo"
      }
    },
    {
      "cell_type": "code",
      "source": [
        "import pandas as pd\n",
        "import spacy\n",
        "from spacy.pipeline import EntityRuler\n",
        "from spacy import displacy\n",
        "import re\n",
        "from collections import defaultdict\n"
      ],
      "metadata": {
        "id": "Fnvw_tsSSaGA"
      },
      "execution_count": 41,
      "outputs": []
    },
    {
      "cell_type": "markdown",
      "source": [
        "Load NLP Model"
      ],
      "metadata": {
        "id": "T_9uN-6cTYX4"
      }
    },
    {
      "cell_type": "code",
      "source": [
        "# Load spaCy English model\n",
        "nlp = spacy.load(\"en_core_web_sm\")\n"
      ],
      "metadata": {
        "id": "Z2HsRvNkTZ_Y"
      },
      "execution_count": 34,
      "outputs": []
    },
    {
      "cell_type": "markdown",
      "source": [
        "Load the Dataset"
      ],
      "metadata": {
        "id": "TVJ4SwuaT90Q"
      }
    },
    {
      "cell_type": "code",
      "source": [
        "import pandas as pd\n",
        "\n",
        "\n",
        "df=pd.read_csvws.csv(\"Reviews.csv\")\n",
        "\n",
        "# Show first few rows and columns\n",
        "print(df.head())\n",
        "\n"
      ],
      "metadata": {
        "colab": {
          "base_uri": "https://localhost:8080/"
        },
        "id": "WSQXltRaWpp5",
        "outputId": "8814266d-0715-4ae1-9fe9-bafaad75fcb5"
      },
      "execution_count": 14,
      "outputs": [
        {
          "output_type": "stream",
          "name": "stdout",
          "text": [
            "   Id   ProductId          UserId                      ProfileName  \\\n",
            "0   1  B001E4KFG0  A3SGXH7AUHU8GW                       delmartian   \n",
            "1   2  B00813GRG4  A1D87F6ZCVE5NK                           dll pa   \n",
            "2   3  B000LQOCH0   ABXLMWJIXXAIN  Natalia Corres \"Natalia Corres\"   \n",
            "3   4  B000UA0QIQ  A395BORC6FGVXV                             Karl   \n",
            "4   5  B006K2ZZ7K  A1UQRSCLF8GW1T    Michael D. Bigham \"M. Wassir\"   \n",
            "\n",
            "   HelpfulnessNumerator  HelpfulnessDenominator  Score        Time  \\\n",
            "0                     1                       1      5  1303862400   \n",
            "1                     0                       0      1  1346976000   \n",
            "2                     1                       1      4  1219017600   \n",
            "3                     3                       3      2  1307923200   \n",
            "4                     0                       0      5  1350777600   \n",
            "\n",
            "                 Summary                                               Text  \n",
            "0  Good Quality Dog Food  I have bought several of the Vitality canned d...  \n",
            "1      Not as Advertised  Product arrived labeled as Jumbo Salted Peanut...  \n",
            "2  \"Delight\" says it all  This is a confection that has been around a fe...  \n",
            "3         Cough Medicine  If you are looking for the secret ingredient i...  \n",
            "4            Great taffy  Great taffy at a great price.  There was a wid...  \n"
          ]
        }
      ]
    },
    {
      "cell_type": "code",
      "source": [
        "df.columns"
      ],
      "metadata": {
        "colab": {
          "base_uri": "https://localhost:8080/"
        },
        "id": "OGbUH9cQYpq4",
        "outputId": "220afce5-0eeb-4aaa-ec68-f38b26b2f866"
      },
      "execution_count": 15,
      "outputs": [
        {
          "output_type": "execute_result",
          "data": {
            "text/plain": [
              "Index(['Id', 'ProductId', 'UserId', 'ProfileName', 'HelpfulnessNumerator',\n",
              "       'HelpfulnessDenominator', 'Score', 'Time', 'Summary', 'Text'],\n",
              "      dtype='object')"
            ]
          },
          "metadata": {},
          "execution_count": 15
        }
      ]
    },
    {
      "cell_type": "markdown",
      "source": [
        "✅ Step-by-Step: Clean the **Amazon Review Data**"
      ],
      "metadata": {
        "id": "Z6dW6pNyaKax"
      }
    },
    {
      "cell_type": "code",
      "source": [
        "## 1. Data Preparation\n",
        "\n",
        "def load_data(filepath):\n",
        "    \"\"\"Load and clean the Amazon reviews dataset\"\"\"\n",
        "    df = pd.read_csv(filepath)\n",
        "    print(f\"Original data shape: {df.shape}\")\n",
        "\n",
        "    # Basic cleaning\n",
        "    df = df.dropna(subset=['Text'])  # Remove reviews with no text\n",
        "    df['Text'] = df['Text'].apply(clean_text)\n",
        "    print(f\"Cleaned data shape: {df.shape}\")\n",
        "    print(\"\\nSample data:\")\n",
        "    print(df[['Score', 'Text']].head(3))\n",
        "    return df\n",
        "\n",
        "def clean_text(text):\n",
        "    \"\"\"Clean review text\"\"\"\n",
        "    if not isinstance(text, str):\n",
        "        return \"\"\n",
        "    text = re.sub(r'<[^>]+>', '', text)  # Remove HTML\n",
        "    text = text.lower()  # Lowercase\n",
        "    text = ' '.join(text.split())  # Remove extra whitespace\n",
        "    return text\n",
        "\n"
      ],
      "metadata": {
        "id": "b2syM94xFNq4"
      },
      "execution_count": 48,
      "outputs": []
    },
    {
      "cell_type": "markdown",
      "source": [
        "# NER Pipeline Setup"
      ],
      "metadata": {
        "id": "FdQij31tGKj5"
      }
    },
    {
      "cell_type": "code",
      "source": [
        "## 2. NER Pipeline Setup\n",
        "\n",
        "def create_ner_pipeline():\n",
        "    \"\"\"Create and configure the spaCy NLP pipeline with enhanced entity recognition\"\"\"\n",
        "    nlp = spacy.load(\"en_core_web_sm\")\n",
        "\n",
        "    # Expanded patterns with variations\n",
        "    patterns = [\n",
        "        {\"label\": \"PRODUCT\", \"pattern\": [{\"LOWER\": \"kindle\"}]},\n",
        "        {\"label\": \"PRODUCT\", \"pattern\": [{\"LOWER\": \"echo\"}, {\"LOWER\": \"dot\"}]},\n",
        "        {\"label\": \"PRODUCT\", \"pattern\": [{\"LOWER\": \"fire\"}, {\"LOWER\": \"tv\"}, {\"LOWER\": \"stick\"}]},\n",
        "        {\"label\": \"BRAND\", \"pattern\": [{\"LOWER\": \"amazon\"}]},\n",
        "        {\"label\": \"BRAND\", \"pattern\": [{\"LOWER\": \"bose\"}]},\n",
        "        {\"label\": \"BRAND\", \"pattern\": [{\"LOWER\": \"sony\"}]},\n",
        "        {\"label\": \"PRODUCT\", \"pattern\": [{\"LOWER\": \"dog\"}, {\"LOWER\": \"food\"}]},\n",
        "        {\"label\": \"PRODUCT\", \"pattern\": [{\"LOWER\": \"cat\"}, {\"LOWER\": \"treats\"}]},\n",
        "        {\"label\": \"PRODUCT\", \"pattern\": [{\"LOWER\": \"canned\"}, {\"LOWER\": \"food\"}]},\n",
        "        {\"label\": \"BRAND\", \"pattern\": [{\"LOWER\": \"vitality\"}]},\n",
        "        {\"label\": \"PRODUCT\", \"pattern\": [{\"LOWER\": \"peanut\"}, {\"LOWER\": \"butter\"}]},\n",
        "        {\"label\": \"PRODUCT\", \"pattern\": [{\"LOWER\": \"confection\"}]}\n",
        "    ]\n",
        "\n",
        "    ruler = nlp.add_pipe(\"entity_ruler\", before=\"ner\")\n",
        "    ruler.add_patterns(patterns)\n",
        "\n",
        "    return nlp"
      ],
      "metadata": {
        "id": "l4HmRr9UGOHY"
      },
      "execution_count": 50,
      "outputs": []
    },
    {
      "cell_type": "markdown",
      "source": [
        "# Rule-Based Sentiment Analysis"
      ],
      "metadata": {
        "id": "sVnMD84zGdhr"
      }
    },
    {
      "cell_type": "code",
      "source": [
        "## 3. Rule-Based Sentiment Analysis\n",
        "\n",
        "POSITIVE_WORDS = {\n",
        "    'good', 'great', 'excellent', 'awesome', 'fantastic',\n",
        "    'wonderful', 'amazing', 'love', 'liked', 'perfect', 'best',\n",
        "    'superb', 'outstanding', 'recommend', 'satisfied', 'happy'\n",
        "}\n",
        "\n",
        "NEGATIVE_WORDS = {\n",
        "    'bad', 'terrible', 'awful', 'horrible', 'hate',\n",
        "    'dislike', 'poor', 'worst', 'broke', 'defective', 'waste',\n",
        "    'disappointed', 'return', 'broken', 'junk', 'avoid'\n",
        "}\n",
        "\n",
        "def get_sentiment(text):\n",
        "    \"\"\"Enhanced sentiment analysis with negation handling\"\"\"\n",
        "    if not text:\n",
        "        return \"neutral\"\n",
        "\n",
        "    words = text.split()\n",
        "    positive_count = 0\n",
        "    negative_count = 0\n",
        "\n",
        "    for i, word in enumerate(words):\n",
        "        if word in POSITIVE_WORDS:\n",
        "            # Check for negation\n",
        "            if i > 0 and words[i-1] in ['not', \"n't\", 'never']:\n",
        "                negative_count += 1\n",
        "            else:\n",
        "                positive_count += 1\n",
        "        elif word in NEGATIVE_WORDS:\n",
        "            # Check for negation\n",
        "            if i > 0 and words[i-1] in ['not', \"n't\", 'never']:\n",
        "                positive_count += 1\n",
        "            else:\n",
        "                negative_count += 1\n",
        "\n",
        "    if positive_count > negative_count:\n",
        "        return \"positive\"\n",
        "    elif negative_count > positive_count:\n",
        "        return \"negative\"\n",
        "    return \"neutral\""
      ],
      "metadata": {
        "id": "el8hooArGgGI"
      },
      "execution_count": 51,
      "outputs": []
    },
    {
      "cell_type": "markdown",
      "source": [
        "# Review Processing Loop"
      ],
      "metadata": {
        "id": "rnORP-BxHlGg"
      }
    },
    {
      "cell_type": "code",
      "source": [
        "## 4. Review Processing Loop\n",
        "\n",
        "def process_reviews(df, nlp, sample_size=1000):\n",
        "    \"\"\"Process reviews with enhanced entity extraction\"\"\"\n",
        "    sample_size = min(sample_size, len(df))\n",
        "    sample_df = df.sample(sample_size, random_state=42)\n",
        "\n",
        "    results = []\n",
        "    for _, row in sample_df.iterrows():\n",
        "        doc = nlp(row['Text'])\n",
        "        entities = extract_entities(doc)\n",
        "\n",
        "        results.append({\n",
        "            'review_id': row['Id'],\n",
        "            'text': row['Text'][:200] + \"...\",  # Show more context\n",
        "            'score': row['Score'],\n",
        "            'entities': entities,\n",
        "            'sentiment': get_sentiment(row['Text'])\n",
        "        })\n",
        "\n",
        "    return pd.DataFrame(results)\n",
        "\n",
        "def extract_entities(doc):\n",
        "    \"\"\"Enhanced entity extraction with merging multi-word entities\"\"\"\n",
        "    entities = defaultdict(list)\n",
        "    for ent in doc.ents:\n",
        "        if ent.label_ in ['PRODUCT', 'BRAND', 'ORG']:\n",
        "            # Merge multi-word entities\n",
        "            merged_text = ' '.join([t.text for t in ent])\n",
        "            entities[ent.label_].append(merged_text)\n",
        "\n",
        "    # Remove duplicates and empty entries\n",
        "    return {k: list(set(v)) for k, v in entities.items() if v}\n",
        "\n"
      ],
      "metadata": {
        "id": "Bx3OiVYZG_g_"
      },
      "execution_count": 52,
      "outputs": []
    },
    {
      "cell_type": "markdown",
      "source": [
        " # Result Display & Export"
      ],
      "metadata": {
        "id": "TFlOCRUAHv04"
      }
    },
    {
      "cell_type": "code",
      "source": [
        "## 5. Result Display & Export\n",
        "\n",
        "def show_entity_examples(results_df, n=3):\n",
        "    \"\"\"Display reviews that actually contained entities\"\"\"\n",
        "    has_entities = results_df[results_df['entities'].apply(bool)]\n",
        "    if not has_entities.empty:\n",
        "        print(\"\\nReviews with extracted entities:\")\n",
        "        for _, row in has_entities.head(n).iterrows():\n",
        "            print(f\"\\nScore: {row['score']}, Sentiment: {row['sentiment']}\")\n",
        "            print(f\"Text: {row['text']}\")\n",
        "            print(f\"Entities: {row['entities']}\")\n",
        "    else:\n",
        "        print(\"\\nWarning: No entities were extracted in any reviews\")\n",
        "\n",
        "def analyze_results(results_df):\n",
        "    \"\"\"Enhanced results analysis with entity examples\"\"\"\n",
        "    print(\"\\nSample processed reviews:\")\n",
        "    print(results_df.head(3))\n",
        "\n",
        "    print(\"\\nSentiment distribution:\")\n",
        "    print(results_df['sentiment'].value_counts())\n",
        "\n",
        "    # Show entity examples\n",
        "    show_entity_examples(results_df)\n",
        "\n",
        "    # Calculate entity statistics\n",
        "    all_entities = []\n",
        "    for entities in results_df['entities']:\n",
        "        for entity_type, entity_list in entities.items():\n",
        "            all_entities.extend([(entity_type, entity) for entity in entity_list])\n",
        "\n",
        "    if all_entities:\n",
        "        entity_df = pd.DataFrame(all_entities, columns=['type', 'entity'])\n",
        "        print(\"\\nMost frequent entities:\")\n",
        "        print(entity_df.value_counts().head(10))\n",
        "\n",
        "    # Save to CSV\n",
        "    results_df.to_csv('amazon_reviews_analyzed.csv', index=False)\n",
        "    print(\"\\nResults saved to 'amazon_reviews_analyzed.csv'\")\n",
        "\n",
        "## Main Execution\n",
        "\n",
        "if __name__ == \"__main__\":\n",
        "    print(\"Loading data...\")\n",
        "    df = load_data(\"Reviews.csv\")\n",
        "\n",
        "    print(\"\\nSetting up NLP pipeline...\")\n",
        "    nlp = create_ner_pipeline()\n",
        "\n",
        "    print(\"\\nProcessing reviews...\")\n",
        "    results_df = process_reviews(df, nlp, sample_size=1000)\n",
        "\n",
        "    analyze_results(results_df)"
      ],
      "metadata": {
        "colab": {
          "base_uri": "https://localhost:8080/"
        },
        "id": "egTEHv5BH53g",
        "outputId": "15e3914c-fe1f-4fd1-a9ce-493544ae8dc2"
      },
      "execution_count": 53,
      "outputs": [
        {
          "output_type": "stream",
          "name": "stdout",
          "text": [
            "Loading data...\n",
            "Original data shape: (568454, 10)\n",
            "Cleaned data shape: (568454, 10)\n",
            "\n",
            "Sample data:\n",
            "   Score                                               Text\n",
            "0      5  i have bought several of the vitality canned d...\n",
            "1      1  product arrived labeled as jumbo salted peanut...\n",
            "2      4  this is a confection that has been around a fe...\n",
            "\n",
            "Setting up NLP pipeline...\n",
            "\n",
            "Processing reviews...\n",
            "\n",
            "Sample processed reviews:\n",
            "   review_id                                               text  score  \\\n",
            "0     165257  having tried a couple of other brands of glute...      5   \n",
            "1     231466  my cat loves these treats. if ever i can't fin...      5   \n",
            "2     427828  a little less than i expected. it tends to hav...      3   \n",
            "\n",
            "  entities sentiment  \n",
            "0       {}  positive  \n",
            "1       {}  positive  \n",
            "2       {}   neutral  \n",
            "\n",
            "Sentiment distribution:\n",
            "sentiment\n",
            "positive    596\n",
            "neutral     349\n",
            "negative     55\n",
            "Name: count, dtype: int64\n",
            "\n",
            "Reviews with extracted entities:\n",
            "\n",
            "Score: 5, Sentiment: positive\n",
            "Text: i absolutely love yorkshire tea and am so glad it is now available on amazon! a cup of this full-bodied black tea with milk in the morning is how i start each day and just love it!...\n",
            "Entities: {'BRAND': ['amazon']}\n",
            "\n",
            "Score: 5, Sentiment: neutral\n",
            "Text: i have such a hard time finding loose tea locally. being able to order my favorite lady grey tea on amazon is convenient and timesaving. the tea comes in a six-pack of tins that are just the right siz...\n",
            "Entities: {'BRAND': ['amazon']}\n",
            "\n",
            "Score: 4, Sentiment: positive\n",
            "Text: i am a lover of coffee and will try almost any coffee product once. i own a coffee pod maker at work, and i have been using senseo's medium roast and espresso pods for a few months, but after trying m...\n",
            "Entities: {'ORG': ['marley coffee']}\n",
            "\n",
            "Most frequent entities:\n",
            "type     entity       \n",
            "BRAND    amazon           124\n",
            "PRODUCT  peanut butter     16\n",
            "         dog food          14\n",
            "ORG      amazon.com         5\n",
            "         taco bell          3\n",
            "         fed                3\n",
            "         costco             2\n",
            "         justin             2\n",
            "         gm                 2\n",
            "         caramel            2\n",
            "Name: count, dtype: int64\n",
            "\n",
            "Results saved to 'amazon_reviews_analyzed.csv'\n"
          ]
        }
      ]
    },
    {
      "cell_type": "code",
      "source": [
        "import pandas as pd\n",
        "df = pd.read_csv('amazon_reviews_analyzed.csv')\n",
        "df.head()"
      ],
      "metadata": {
        "colab": {
          "base_uri": "https://localhost:8080/",
          "height": 329
        },
        "id": "ntuvokzRO1sp",
        "outputId": "7061ab4c-bbd5-4909-9745-f10d8ed4665a"
      },
      "execution_count": 54,
      "outputs": [
        {
          "output_type": "execute_result",
          "data": {
            "text/plain": [
              "   review_id                                               text  score  \\\n",
              "0     165257  having tried a couple of other brands of glute...      5   \n",
              "1     231466  my cat loves these treats. if ever i can't fin...      5   \n",
              "2     427828  a little less than i expected. it tends to hav...      3   \n",
              "3     433955  first there was frosted mini-wheats, in origin...      2   \n",
              "4      70261  and i want to congratulate the graphic artist ...      5   \n",
              "\n",
              "  entities sentiment  \n",
              "0       {}  positive  \n",
              "1       {}  positive  \n",
              "2       {}   neutral  \n",
              "3       {}  positive  \n",
              "4       {}  positive  "
            ],
            "text/html": [
              "\n",
              "  <div id=\"df-4b9b8165-a9b3-476a-8392-57508f33bb3e\" class=\"colab-df-container\">\n",
              "    <div>\n",
              "<style scoped>\n",
              "    .dataframe tbody tr th:only-of-type {\n",
              "        vertical-align: middle;\n",
              "    }\n",
              "\n",
              "    .dataframe tbody tr th {\n",
              "        vertical-align: top;\n",
              "    }\n",
              "\n",
              "    .dataframe thead th {\n",
              "        text-align: right;\n",
              "    }\n",
              "</style>\n",
              "<table border=\"1\" class=\"dataframe\">\n",
              "  <thead>\n",
              "    <tr style=\"text-align: right;\">\n",
              "      <th></th>\n",
              "      <th>review_id</th>\n",
              "      <th>text</th>\n",
              "      <th>score</th>\n",
              "      <th>entities</th>\n",
              "      <th>sentiment</th>\n",
              "    </tr>\n",
              "  </thead>\n",
              "  <tbody>\n",
              "    <tr>\n",
              "      <th>0</th>\n",
              "      <td>165257</td>\n",
              "      <td>having tried a couple of other brands of glute...</td>\n",
              "      <td>5</td>\n",
              "      <td>{}</td>\n",
              "      <td>positive</td>\n",
              "    </tr>\n",
              "    <tr>\n",
              "      <th>1</th>\n",
              "      <td>231466</td>\n",
              "      <td>my cat loves these treats. if ever i can't fin...</td>\n",
              "      <td>5</td>\n",
              "      <td>{}</td>\n",
              "      <td>positive</td>\n",
              "    </tr>\n",
              "    <tr>\n",
              "      <th>2</th>\n",
              "      <td>427828</td>\n",
              "      <td>a little less than i expected. it tends to hav...</td>\n",
              "      <td>3</td>\n",
              "      <td>{}</td>\n",
              "      <td>neutral</td>\n",
              "    </tr>\n",
              "    <tr>\n",
              "      <th>3</th>\n",
              "      <td>433955</td>\n",
              "      <td>first there was frosted mini-wheats, in origin...</td>\n",
              "      <td>2</td>\n",
              "      <td>{}</td>\n",
              "      <td>positive</td>\n",
              "    </tr>\n",
              "    <tr>\n",
              "      <th>4</th>\n",
              "      <td>70261</td>\n",
              "      <td>and i want to congratulate the graphic artist ...</td>\n",
              "      <td>5</td>\n",
              "      <td>{}</td>\n",
              "      <td>positive</td>\n",
              "    </tr>\n",
              "  </tbody>\n",
              "</table>\n",
              "</div>\n",
              "    <div class=\"colab-df-buttons\">\n",
              "\n",
              "  <div class=\"colab-df-container\">\n",
              "    <button class=\"colab-df-convert\" onclick=\"convertToInteractive('df-4b9b8165-a9b3-476a-8392-57508f33bb3e')\"\n",
              "            title=\"Convert this dataframe to an interactive table.\"\n",
              "            style=\"display:none;\">\n",
              "\n",
              "  <svg xmlns=\"http://www.w3.org/2000/svg\" height=\"24px\" viewBox=\"0 -960 960 960\">\n",
              "    <path d=\"M120-120v-720h720v720H120Zm60-500h600v-160H180v160Zm220 220h160v-160H400v160Zm0 220h160v-160H400v160ZM180-400h160v-160H180v160Zm440 0h160v-160H620v160ZM180-180h160v-160H180v160Zm440 0h160v-160H620v160Z\"/>\n",
              "  </svg>\n",
              "    </button>\n",
              "\n",
              "  <style>\n",
              "    .colab-df-container {\n",
              "      display:flex;\n",
              "      gap: 12px;\n",
              "    }\n",
              "\n",
              "    .colab-df-convert {\n",
              "      background-color: #E8F0FE;\n",
              "      border: none;\n",
              "      border-radius: 50%;\n",
              "      cursor: pointer;\n",
              "      display: none;\n",
              "      fill: #1967D2;\n",
              "      height: 32px;\n",
              "      padding: 0 0 0 0;\n",
              "      width: 32px;\n",
              "    }\n",
              "\n",
              "    .colab-df-convert:hover {\n",
              "      background-color: #E2EBFA;\n",
              "      box-shadow: 0px 1px 2px rgba(60, 64, 67, 0.3), 0px 1px 3px 1px rgba(60, 64, 67, 0.15);\n",
              "      fill: #174EA6;\n",
              "    }\n",
              "\n",
              "    .colab-df-buttons div {\n",
              "      margin-bottom: 4px;\n",
              "    }\n",
              "\n",
              "    [theme=dark] .colab-df-convert {\n",
              "      background-color: #3B4455;\n",
              "      fill: #D2E3FC;\n",
              "    }\n",
              "\n",
              "    [theme=dark] .colab-df-convert:hover {\n",
              "      background-color: #434B5C;\n",
              "      box-shadow: 0px 1px 3px 1px rgba(0, 0, 0, 0.15);\n",
              "      filter: drop-shadow(0px 1px 2px rgba(0, 0, 0, 0.3));\n",
              "      fill: #FFFFFF;\n",
              "    }\n",
              "  </style>\n",
              "\n",
              "    <script>\n",
              "      const buttonEl =\n",
              "        document.querySelector('#df-4b9b8165-a9b3-476a-8392-57508f33bb3e button.colab-df-convert');\n",
              "      buttonEl.style.display =\n",
              "        google.colab.kernel.accessAllowed ? 'block' : 'none';\n",
              "\n",
              "      async function convertToInteractive(key) {\n",
              "        const element = document.querySelector('#df-4b9b8165-a9b3-476a-8392-57508f33bb3e');\n",
              "        const dataTable =\n",
              "          await google.colab.kernel.invokeFunction('convertToInteractive',\n",
              "                                                    [key], {});\n",
              "        if (!dataTable) return;\n",
              "\n",
              "        const docLinkHtml = 'Like what you see? Visit the ' +\n",
              "          '<a target=\"_blank\" href=https://colab.research.google.com/notebooks/data_table.ipynb>data table notebook</a>'\n",
              "          + ' to learn more about interactive tables.';\n",
              "        element.innerHTML = '';\n",
              "        dataTable['output_type'] = 'display_data';\n",
              "        await google.colab.output.renderOutput(dataTable, element);\n",
              "        const docLink = document.createElement('div');\n",
              "        docLink.innerHTML = docLinkHtml;\n",
              "        element.appendChild(docLink);\n",
              "      }\n",
              "    </script>\n",
              "  </div>\n",
              "\n",
              "\n",
              "    <div id=\"df-4cec1958-bed2-4f25-b325-1330d3bdc421\">\n",
              "      <button class=\"colab-df-quickchart\" onclick=\"quickchart('df-4cec1958-bed2-4f25-b325-1330d3bdc421')\"\n",
              "                title=\"Suggest charts\"\n",
              "                style=\"display:none;\">\n",
              "\n",
              "<svg xmlns=\"http://www.w3.org/2000/svg\" height=\"24px\"viewBox=\"0 0 24 24\"\n",
              "     width=\"24px\">\n",
              "    <g>\n",
              "        <path d=\"M19 3H5c-1.1 0-2 .9-2 2v14c0 1.1.9 2 2 2h14c1.1 0 2-.9 2-2V5c0-1.1-.9-2-2-2zM9 17H7v-7h2v7zm4 0h-2V7h2v10zm4 0h-2v-4h2v4z\"/>\n",
              "    </g>\n",
              "</svg>\n",
              "      </button>\n",
              "\n",
              "<style>\n",
              "  .colab-df-quickchart {\n",
              "      --bg-color: #E8F0FE;\n",
              "      --fill-color: #1967D2;\n",
              "      --hover-bg-color: #E2EBFA;\n",
              "      --hover-fill-color: #174EA6;\n",
              "      --disabled-fill-color: #AAA;\n",
              "      --disabled-bg-color: #DDD;\n",
              "  }\n",
              "\n",
              "  [theme=dark] .colab-df-quickchart {\n",
              "      --bg-color: #3B4455;\n",
              "      --fill-color: #D2E3FC;\n",
              "      --hover-bg-color: #434B5C;\n",
              "      --hover-fill-color: #FFFFFF;\n",
              "      --disabled-bg-color: #3B4455;\n",
              "      --disabled-fill-color: #666;\n",
              "  }\n",
              "\n",
              "  .colab-df-quickchart {\n",
              "    background-color: var(--bg-color);\n",
              "    border: none;\n",
              "    border-radius: 50%;\n",
              "    cursor: pointer;\n",
              "    display: none;\n",
              "    fill: var(--fill-color);\n",
              "    height: 32px;\n",
              "    padding: 0;\n",
              "    width: 32px;\n",
              "  }\n",
              "\n",
              "  .colab-df-quickchart:hover {\n",
              "    background-color: var(--hover-bg-color);\n",
              "    box-shadow: 0 1px 2px rgba(60, 64, 67, 0.3), 0 1px 3px 1px rgba(60, 64, 67, 0.15);\n",
              "    fill: var(--button-hover-fill-color);\n",
              "  }\n",
              "\n",
              "  .colab-df-quickchart-complete:disabled,\n",
              "  .colab-df-quickchart-complete:disabled:hover {\n",
              "    background-color: var(--disabled-bg-color);\n",
              "    fill: var(--disabled-fill-color);\n",
              "    box-shadow: none;\n",
              "  }\n",
              "\n",
              "  .colab-df-spinner {\n",
              "    border: 2px solid var(--fill-color);\n",
              "    border-color: transparent;\n",
              "    border-bottom-color: var(--fill-color);\n",
              "    animation:\n",
              "      spin 1s steps(1) infinite;\n",
              "  }\n",
              "\n",
              "  @keyframes spin {\n",
              "    0% {\n",
              "      border-color: transparent;\n",
              "      border-bottom-color: var(--fill-color);\n",
              "      border-left-color: var(--fill-color);\n",
              "    }\n",
              "    20% {\n",
              "      border-color: transparent;\n",
              "      border-left-color: var(--fill-color);\n",
              "      border-top-color: var(--fill-color);\n",
              "    }\n",
              "    30% {\n",
              "      border-color: transparent;\n",
              "      border-left-color: var(--fill-color);\n",
              "      border-top-color: var(--fill-color);\n",
              "      border-right-color: var(--fill-color);\n",
              "    }\n",
              "    40% {\n",
              "      border-color: transparent;\n",
              "      border-right-color: var(--fill-color);\n",
              "      border-top-color: var(--fill-color);\n",
              "    }\n",
              "    60% {\n",
              "      border-color: transparent;\n",
              "      border-right-color: var(--fill-color);\n",
              "    }\n",
              "    80% {\n",
              "      border-color: transparent;\n",
              "      border-right-color: var(--fill-color);\n",
              "      border-bottom-color: var(--fill-color);\n",
              "    }\n",
              "    90% {\n",
              "      border-color: transparent;\n",
              "      border-bottom-color: var(--fill-color);\n",
              "    }\n",
              "  }\n",
              "</style>\n",
              "\n",
              "      <script>\n",
              "        async function quickchart(key) {\n",
              "          const quickchartButtonEl =\n",
              "            document.querySelector('#' + key + ' button');\n",
              "          quickchartButtonEl.disabled = true;  // To prevent multiple clicks.\n",
              "          quickchartButtonEl.classList.add('colab-df-spinner');\n",
              "          try {\n",
              "            const charts = await google.colab.kernel.invokeFunction(\n",
              "                'suggestCharts', [key], {});\n",
              "          } catch (error) {\n",
              "            console.error('Error during call to suggestCharts:', error);\n",
              "          }\n",
              "          quickchartButtonEl.classList.remove('colab-df-spinner');\n",
              "          quickchartButtonEl.classList.add('colab-df-quickchart-complete');\n",
              "        }\n",
              "        (() => {\n",
              "          let quickchartButtonEl =\n",
              "            document.querySelector('#df-4cec1958-bed2-4f25-b325-1330d3bdc421 button');\n",
              "          quickchartButtonEl.style.display =\n",
              "            google.colab.kernel.accessAllowed ? 'block' : 'none';\n",
              "        })();\n",
              "      </script>\n",
              "    </div>\n",
              "\n",
              "    </div>\n",
              "  </div>\n"
            ],
            "application/vnd.google.colaboratory.intrinsic+json": {
              "type": "dataframe",
              "variable_name": "df",
              "summary": "{\n  \"name\": \"df\",\n  \"rows\": 1000,\n  \"fields\": [\n    {\n      \"column\": \"review_id\",\n      \"properties\": {\n        \"dtype\": \"number\",\n        \"std\": 165598,\n        \"min\": 875,\n        \"max\": 568077,\n        \"num_unique_values\": 1000,\n        \"samples\": [\n          563396,\n          486778,\n          182931\n        ],\n        \"semantic_type\": \"\",\n        \"description\": \"\"\n      }\n    },\n    {\n      \"column\": \"text\",\n      \"properties\": {\n        \"dtype\": \"string\",\n        \"num_unique_values\": 997,\n        \"samples\": [\n          \"this product tasted good and was a great alternative to the salted version. i was happy to find this online since it is not available in the local grocery stores....\",\n          \"i would not purchase this coffee again. although drinkable- it needs a lot of creamer to drown out the bitterness....\",\n          \"this tea smells and tastes like christmas! this has always been my family's favorite tea for children's (and big kid's) tea parties....\"\n        ],\n        \"semantic_type\": \"\",\n        \"description\": \"\"\n      }\n    },\n    {\n      \"column\": \"score\",\n      \"properties\": {\n        \"dtype\": \"number\",\n        \"std\": 1,\n        \"min\": 1,\n        \"max\": 5,\n        \"num_unique_values\": 5,\n        \"samples\": [\n          3,\n          1,\n          2\n        ],\n        \"semantic_type\": \"\",\n        \"description\": \"\"\n      }\n    },\n    {\n      \"column\": \"entities\",\n      \"properties\": {\n        \"dtype\": \"category\",\n        \"num_unique_values\": 103,\n        \"samples\": [\n          \"{'ORG': ['ultra shea shampoo']}\",\n          \"{'ORG': ['larabar']}\",\n          \"{'ORG': ['sams club'], 'BRAND': ['amazon']}\"\n        ],\n        \"semantic_type\": \"\",\n        \"description\": \"\"\n      }\n    },\n    {\n      \"column\": \"sentiment\",\n      \"properties\": {\n        \"dtype\": \"category\",\n        \"num_unique_values\": 3,\n        \"samples\": [\n          \"positive\",\n          \"neutral\",\n          \"negative\"\n        ],\n        \"semantic_type\": \"\",\n        \"description\": \"\"\n      }\n    }\n  ]\n}"
            }
          },
          "metadata": {},
          "execution_count": 54
        }
      ]
    },
    {
      "cell_type": "code",
      "source": [
        "from google.colab import files\n",
        "files.download('amazon_reviews_analyzed.csv')"
      ],
      "metadata": {
        "colab": {
          "base_uri": "https://localhost:8080/",
          "height": 17
        },
        "id": "5JJQs7E6O-oY",
        "outputId": "cb824fe2-bd24-4345-be52-15cbfc113416"
      },
      "execution_count": 55,
      "outputs": [
        {
          "output_type": "display_data",
          "data": {
            "text/plain": [
              "<IPython.core.display.Javascript object>"
            ],
            "application/javascript": [
              "\n",
              "    async function download(id, filename, size) {\n",
              "      if (!google.colab.kernel.accessAllowed) {\n",
              "        return;\n",
              "      }\n",
              "      const div = document.createElement('div');\n",
              "      const label = document.createElement('label');\n",
              "      label.textContent = `Downloading \"${filename}\": `;\n",
              "      div.appendChild(label);\n",
              "      const progress = document.createElement('progress');\n",
              "      progress.max = size;\n",
              "      div.appendChild(progress);\n",
              "      document.body.appendChild(div);\n",
              "\n",
              "      const buffers = [];\n",
              "      let downloaded = 0;\n",
              "\n",
              "      const channel = await google.colab.kernel.comms.open(id);\n",
              "      // Send a message to notify the kernel that we're ready.\n",
              "      channel.send({})\n",
              "\n",
              "      for await (const message of channel.messages) {\n",
              "        // Send a message to notify the kernel that we're ready.\n",
              "        channel.send({})\n",
              "        if (message.buffers) {\n",
              "          for (const buffer of message.buffers) {\n",
              "            buffers.push(buffer);\n",
              "            downloaded += buffer.byteLength;\n",
              "            progress.value = downloaded;\n",
              "          }\n",
              "        }\n",
              "      }\n",
              "      const blob = new Blob(buffers, {type: 'application/binary'});\n",
              "      const a = document.createElement('a');\n",
              "      a.href = window.URL.createObjectURL(blob);\n",
              "      a.download = filename;\n",
              "      div.appendChild(a);\n",
              "      a.click();\n",
              "      div.remove();\n",
              "    }\n",
              "  "
            ]
          },
          "metadata": {}
        },
        {
          "output_type": "display_data",
          "data": {
            "text/plain": [
              "<IPython.core.display.Javascript object>"
            ],
            "application/javascript": [
              "download(\"download_0c1eea13-1d51-4460-bf47-b66bccb663d5\", \"amazon_reviews_analyzed.csv\", 215810)"
            ]
          },
          "metadata": {}
        }
      ]
    }
  ]
}