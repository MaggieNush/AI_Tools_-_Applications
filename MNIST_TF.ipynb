{
  "nbformat": 4,
  "nbformat_minor": 0,
  "metadata": {
    "colab": {
      "provenance": []
    },
    "kernelspec": {
      "name": "python3",
      "display_name": "Python 3"
    },
    "language_info": {
      "name": "python"
    }
  },
  "cells": [
    {
      "cell_type": "markdown",
      "source": [
        "MNIST Handwritten Digits Classification using CNN"
      ],
      "metadata": {
        "id": "MrKHDhkwLBcg"
      }
    },
    {
      "cell_type": "code",
      "execution_count": 28,
      "metadata": {
        "id": "Nf_6EUnsKqYG"
      },
      "outputs": [],
      "source": [
        "import tensorflow as tf\n",
        "import matplotlib.pyplot as plt\n",
        "import numpy as np"
      ]
    },
    {
      "cell_type": "code",
      "source": [
        "# Getting the data into training and testing variables.\n",
        "from tensorflow.keras.datasets import mnist\n",
        "\n",
        "# Load dataset\n",
        "(x_train, y_train), (x_test, y_test) = mnist.load_data()\n",
        "\n",
        "# Normalize images (scale pixel values to range 0-1)\n",
        "x_train = x_train / 255.0\n",
        "x_test = x_test / 255.0\n",
        "\n",
        "# Reshape images to fit CNN input (batch_size, 28, 28, 1)\n",
        "x_train = x_train.reshape(-1, 28, 28, 1)\n",
        "x_test = x_test.reshape(-1, 28, 28, 1)\n",
        "\n",
        "# Check the new shape\n",
        "print(\"Training the data shape:\", x_train.shape)\n",
        "print(\"Testing the data shape:\", x_test.shape)"
      ],
      "metadata": {
        "colab": {
          "base_uri": "https://localhost:8080/"
        },
        "id": "GLxcTB-HLcrJ",
        "outputId": "801a7f94-3da1-4211-cea0-20279261d2fe"
      },
      "execution_count": 29,
      "outputs": [
        {
          "output_type": "stream",
          "name": "stdout",
          "text": [
            "Training the data shape: (60000, 28, 28, 1)\n",
            "Testing the data shape: (10000, 28, 28, 1)\n"
          ]
        }
      ]
    },
    {
      "cell_type": "code",
      "source": [
        "# Visualizing sample images\n",
        "import matplotlib.pyplot as plt\n",
        "\n",
        "# Plot 5 sample images from the training set\n",
        "plt.figure(figsize=(10,2))\n",
        "\n",
        "for i in range(5):\n",
        "  plt.subplot(1,5,i+1) # 1 row, 5 columns\n",
        "  plt.imshow(x_train[i].reshape(28,28), cmap='gray') # remove the channel dimension\n",
        "  plt.title(f\"Label: {y_train[i]}\")\n",
        "  plt.axis('off')\n",
        "\n",
        "# Show the plot\n",
        "plt.tight_layout()\n",
        "plt.show()"
      ],
      "metadata": {
        "colab": {
          "base_uri": "https://localhost:8080/",
          "height": 217
        },
        "id": "4OMUOEoSMbXz",
        "outputId": "913147cb-7ef3-43ba-fb2a-2588d9545f48"
      },
      "execution_count": 30,
      "outputs": [
        {
          "output_type": "display_data",
          "data": {
            "text/plain": [
              "<Figure size 1000x200 with 5 Axes>"
            ],
            "image/png": "[encoded data removed]"
          },
          "metadata": {}
        }
      ]
    },
    {
      "cell_type": "code",
      "source": [
        "# Building the CNN Model\n",
        "from tensorflow.keras.models import Sequential\n",
        "from tensorflow.keras.layers import Conv2D, MaxPooling2D, Flatten, Dense\n",
        "\n",
        "# Defining the CNN structure\n",
        "model = Sequential([\n",
        "    # 1st Convolutional layer\n",
        "    Conv2D(32, kernel_size=(3, 3), activation='relu', input_shape=(28, 28, 1)),\n",
        "    MaxPooling2D(pool_size=(2, 2)),\n",
        "\n",
        "    # 2nd Convolutional layer\n",
        "    Conv2D(64, kernel_size=(3, 3), activation='relu'),\n",
        "    MaxPooling2D(pool_size=(2, 2)),\n",
        "\n",
        "    # Flatten and Dense layers\n",
        "    Flatten(),\n",
        "    Dense(64, activation='relu'),\n",
        "    Dense(10, activation='softmax') # Output classes\n",
        "])"
      ],
      "metadata": {
        "colab": {
          "base_uri": "https://localhost:8080/"
        },
        "id": "5lkyXVI8QvQB",
        "outputId": "338b47b7-db89-49d9-9615-33a1eda2ef81"
      },
      "execution_count": 31,
      "outputs": [
        {
          "output_type": "stream",
          "name": "stderr",
          "text": [
            "/usr/local/lib/python3.11/dist-packages/keras/src/layers/convolutional/base_conv.py:107: UserWarning: Do not pass an `input_shape`/`input_dim` argument to a layer. When using Sequential models, prefer using an `Input(shape)` object as the first layer in the model instead.\n",
            "  super().__init__(activity_regularizer=activity_regularizer, **kwargs)\n"
          ]
        }
      ]
    },
    {
      "cell_type": "code",
      "source": [
        "# Compile the model\n",
        "model.compile(\n",
        "    optimizer='adam', # how the model updates it's weight\n",
        "    loss='sparse_categorical_crossentropy', # works for integers labeels like (0-9)\n",
        "    metrics=['accuracy'] # track how many predictions were correct\n",
        ")"
      ],
      "metadata": {
        "id": "lfcsrBElUpwg"
      },
      "execution_count": 32,
      "outputs": []
    },
    {
      "cell_type": "code",
      "source": [
        "from re import VERBOSE\n",
        "# Training the model\n",
        "history = model.fit(\n",
        "    x_train, y_train, # training data\n",
        "    epochs=5, # number of training passes\n",
        "    batch_size=32, # number of images the model sees at once\n",
        "    validation_split=0.2, # 20% of the training data is used for validation\n",
        "    verbose=1 # training progress\n",
        ")"
      ],
      "metadata": {
        "colab": {
          "base_uri": "https://localhost:8080/"
        },
        "id": "qJ-SN7K0Uxp-",
        "outputId": "33cd61f8-752c-4f93-9cca-27ae9a2a2d39"
      },
      "execution_count": 33,
      "outputs": [
        {
          "output_type": "stream",
          "name": "stdout",
          "text": [
            "Epoch 1/5\n",
            "\u001b[1m1500/1500\u001b[0m \u001b[32m━━━━━━━━━━━━━━━━━━━━\u001b[0m\u001b[37m\u001b[0m \u001b[1m47s\u001b[0m 30ms/step - accuracy: 0.8821 - loss: 0.3772 - val_accuracy: 0.9812 - val_loss: 0.0627\n",
            "Epoch 2/5\n",
            "\u001b[1m1500/1500\u001b[0m \u001b[32m━━━━━━━━━━━━━━━━━━━━\u001b[0m\u001b[37m\u001b[0m \u001b[1m82s\u001b[0m 30ms/step - accuracy: 0.9834 - loss: 0.0533 - val_accuracy: 0.9857 - val_loss: 0.0480\n",
            "Epoch 3/5\n",
            "\u001b[1m1500/1500\u001b[0m \u001b[32m━━━━━━━━━━━━━━━━━━━━\u001b[0m\u001b[37m\u001b[0m \u001b[1m44s\u001b[0m 29ms/step - accuracy: 0.9895 - loss: 0.0328 - val_accuracy: 0.9858 - val_loss: 0.0471\n",
            "Epoch 4/5\n",
            "\u001b[1m1500/1500\u001b[0m \u001b[32m━━━━━━━━━━━━━━━━━━━━\u001b[0m\u001b[37m\u001b[0m \u001b[1m46s\u001b[0m 31ms/step - accuracy: 0.9913 - loss: 0.0272 - val_accuracy: 0.9891 - val_loss: 0.0366\n",
            "Epoch 5/5\n",
            "\u001b[1m1500/1500\u001b[0m \u001b[32m━━━━━━━━━━━━━━━━━━━━\u001b[0m\u001b[37m\u001b[0m \u001b[1m82s\u001b[0m 31ms/step - accuracy: 0.9940 - loss: 0.0192 - val_accuracy: 0.9891 - val_loss: 0.0386\n"
          ]
        }
      ]
    },
    {
      "cell_type": "code",
      "source": [
        "# Evaluate the model on the test dataset\n",
        "test_loss, test_accuracy = model.evaluate(x_test, y_test)\n",
        "print(f'\\nTest accuracy: {test_accuracy * 100:.2f}%')"
      ],
      "metadata": {
        "colab": {
          "base_uri": "https://localhost:8080/"
        },
        "id": "b2QovtH1XcMR",
        "outputId": "34ee21dd-95d6-47fa-b96a-0cb677195601"
      },
      "execution_count": 34,
      "outputs": [
        {
          "output_type": "stream",
          "name": "stdout",
          "text": [
            "\u001b[1m313/313\u001b[0m \u001b[32m━━━━━━━━━━━━━━━━━━━━\u001b[0m\u001b[37m\u001b[0m \u001b[1m4s\u001b[0m 13ms/step - accuracy: 0.9879 - loss: 0.0315\n",
            "\n",
            "Test accuracy: 99.06%\n"
          ]
        }
      ]
    },
    {
      "cell_type": "code",
      "source": [
        "# Predict & Visualize 5 Test Images\n",
        "import random\n",
        "\n",
        "plt.figure(figsize=(10, 2))\n",
        "\n",
        "for i in range(5):\n",
        "  index = random.randint(0, len(x_test)-1)\n",
        "  image = x_test[index]\n",
        "  label = y_test[index]\n",
        "\n",
        "  # Predict (model expects batch of images, so we add an extra dimension)\n",
        "  prediction = model.predict(image.reshape(1, 28, 28, 1))\n",
        "  predicted_label = np.argmax(prediction)\n",
        "\n",
        "  # Plot the image\n",
        "  plt.subplot(1, 5, i+1)\n",
        "  plt.imshow(image.reshape(28, 28), cmap='gray')\n",
        "  plt.title(f\"Predict: {predicted_label}\\nActual: {label}\")\n",
        "  plt.axis('off')\n",
        "\n",
        "plt.tight_layout()\n",
        "plt.show()\n"
      ],
      "metadata": {
        "colab": {
          "base_uri": "https://localhost:8080/",
          "height": 304
        },
        "id": "jgcVb4GXeYps",
        "outputId": "575008f7-c1c1-4bbe-cf6f-fcc30d540fa3"
      },
      "execution_count": 35,
      "outputs": [
        {
          "output_type": "stream",
          "name": "stdout",
          "text": [
            "\u001b[1m1/1\u001b[0m \u001b[32m━━━━━━━━━━━━━━━━━━━━\u001b[0m\u001b[37m\u001b[0m \u001b[1m0s\u001b[0m 98ms/step\n",
            "\u001b[1m1/1\u001b[0m \u001b[32m━━━━━━━━━━━━━━━━━━━━\u001b[0m\u001b[37m\u001b[0m \u001b[1m0s\u001b[0m 50ms/step\n",
            "\u001b[1m1/1\u001b[0m \u001b[32m━━━━━━━━━━━━━━━━━━━━\u001b[0m\u001b[37m\u001b[0m \u001b[1m0s\u001b[0m 47ms/step\n",
            "\u001b[1m1/1\u001b[0m \u001b[32m━━━━━━━━━━━━━━━━━━━━\u001b[0m\u001b[37m\u001b[0m \u001b[1m0s\u001b[0m 41ms/step\n",
            "\u001b[1m1/1\u001b[0m \u001b[32m━━━━━━━━━━━━━━━━━━━━\u001b[0m\u001b[37m\u001b[0m \u001b[1m0s\u001b[0m 37ms/step\n"
          ]
        },
        {
          "output_type": "display_data",
          "data": {
            "text/plain": [
              "<Figure size 1000x200 with 5 Axes>"
            ],
            "image/png": "[encoded data removed]"
          },
          "metadata": {}
        }
      ]
    },
    {
      "cell_type": "code",
      "source": [
        "model.save('my_model.keras')"
      ],
      "metadata": {
        "id": "lXS2aEgvgwM1"
      },
      "execution_count": 39,
      "outputs": []
    }
  ]
}